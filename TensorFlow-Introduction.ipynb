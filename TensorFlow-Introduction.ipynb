{
 "cells": [
  {
   "attachments": {},
   "cell_type": "markdown",
   "metadata": {},
   "source": [
    "# Tensors\n",
    "\n",
    "**REF: [freeCodeCamp](https://www.freecodecamp.org/learn/machine-learning-with-python/tensorflow/introduction-to-tensorflow)\n",
    "\n",
    "\"A tensor is a generalization of vector and matrices to potentially higher dimensions. Internally, TensorFlow represents tensors as n-dimensional arrays of base datatypes.\"(https://www.tensorflow.org/guide/tensor)\n",
    "\n",
    "It shouldn't surprise you that tensors are a fundamental aspect of TensorFlow. They are the main objects that are passed around and manipulated through the program. Each tensor represents a partialy defined computation that will eventually produce a value. TensorFlow programs work by building a graph of Tensor objects that details how tensors are related. Running different parts of the graph allow results to be generated.\n",
    "\n",
    "Each tensor has a data type and a shape.\n",
    "\n",
    "**Data Types Include**: float32, int32, string and others.\n",
    "**Shape**: Represents the dimensions of data."
   ]
  },
  {
   "attachments": {},
   "cell_type": "markdown",
   "metadata": {},
   "source": [
    "## Creating Tensors\n",
    "\n",
    "Below is an example of how to create some different tensors."
   ]
  },
  {
   "cell_type": "code",
   "execution_count": 6,
   "metadata": {},
   "outputs": [],
   "source": [
    "import tensorflow as tf\n",
    "\n",
    "string  = tf.Variable(\"this is a string\", tf.string)\n",
    "number = tf.Variable(324, tf.int16)\n",
    "floating = tf.Variable(3.567, tf.float64)"
   ]
  },
  {
   "attachments": {},
   "cell_type": "markdown",
   "metadata": {},
   "source": [
    "## Rank/Degree of Tensors\n",
    "\n",
    "Another word for rank is degree, these terms simply mean the number of dimensions involved in the tensor. What we created above is a tensor of rank 0, also known as a scalar.\n",
    "\n",
    "Now we'll create some tensors of higher degrees/ranks."
   ]
  },
  {
   "cell_type": "code",
   "execution_count": 7,
   "metadata": {},
   "outputs": [],
   "source": [
    "rank_1_tensor = tf.Variable([\"teste\", \"hello\"], tf.string)\n",
    "rank_2_tensor = tf.Variable([[\"test\", \"ok\", \"wow\"], [\"test\", \"yes\", \"yup\"]], tf.string)"
   ]
  },
  {
   "attachments": {},
   "cell_type": "markdown",
   "metadata": {},
   "source": [
    "**To determine the rank** of a tensor, we can call the following method"
   ]
  },
  {
   "cell_type": "code",
   "execution_count": 8,
   "metadata": {},
   "outputs": [
    {
     "data": {
      "text/plain": [
       "<tf.Tensor: shape=(), dtype=int32, numpy=2>"
      ]
     },
     "execution_count": 8,
     "metadata": {},
     "output_type": "execute_result"
    }
   ],
   "source": [
    "tf.rank(rank_2_tensor)"
   ]
  },
  {
   "attachments": {},
   "cell_type": "markdown",
   "metadata": {},
   "source": [
    "## Shape of Tensors\n",
    "\n",
    "Now that we've talked about the rank of tensors, it's time to talk about the shape. The shape of a tensor is simply the amount of elements that exist in each dimension. TensorFlow will try to determine the shape of a tensor, but sometimes it may be unknown.\n",
    "\n",
    "To **get the shape** of a tensor we use the shape attribute."
   ]
  },
  {
   "cell_type": "code",
   "execution_count": 9,
   "metadata": {},
   "outputs": [
    {
     "data": {
      "text/plain": [
       "TensorShape([2, 3])"
      ]
     },
     "execution_count": 9,
     "metadata": {},
     "output_type": "execute_result"
    }
   ],
   "source": [
    "rank_2_tensor.shape"
   ]
  },
  {
   "attachments": {},
   "cell_type": "markdown",
   "metadata": {},
   "source": [
    "### Changing Shape\n",
    "\n",
    "The number of elements of a tensor is the product of the sizes of all its shapes. There are often many shapes that have the same number of elements, making it convinient to be able to change the shape of a tensor.\n",
    "\n",
    "The example below shows how to change the shape of a tensor."
   ]
  },
  {
   "cell_type": "code",
   "execution_count": 10,
   "metadata": {},
   "outputs": [],
   "source": [
    "tensor1 = tf.ones([1, 2, 3])                # Creates a shape[1, 2, 3] tensor full of ones\n",
    "tensor2 = tf.reshape(tensor1, [2, 3, 1])    # Reshape existing data to shape [2, 3, 1]\n",
    "tensor3 = tf.reshape(tensor2, [3, -1])      # -1 tells the tensor to calculate the size of the dimension int that place\n",
    "                                            # in this case, this will reshape the tensor to [3, 2]\n",
    "\n",
    "# The number of elemets in the reshaped tensor MUST match the number in the original tensor"
   ]
  },
  {
   "attachments": {},
   "cell_type": "markdown",
   "metadata": {},
   "source": [
    "Now let's have a look at our different tensors."
   ]
  },
  {
   "cell_type": "code",
   "execution_count": 13,
   "metadata": {},
   "outputs": [
    {
     "name": "stdout",
     "output_type": "stream",
     "text": [
      "Tensor1: \n",
      " tf.Tensor(\n",
      "[[[1. 1. 1.]\n",
      "  [1. 1. 1.]]], shape=(1, 2, 3), dtype=float32) \n",
      "\n",
      "Tensor2: \n",
      " tf.Tensor(\n",
      "[[[1.]\n",
      "  [1.]\n",
      "  [1.]]\n",
      "\n",
      " [[1.]\n",
      "  [1.]\n",
      "  [1.]]], shape=(2, 3, 1), dtype=float32) \n",
      "\n",
      "Tensor3: \n",
      " tf.Tensor(\n",
      "[[1. 1.]\n",
      " [1. 1.]\n",
      " [1. 1.]], shape=(3, 2), dtype=float32) \n",
      "\n"
     ]
    }
   ],
   "source": [
    "print(\"Tensor1: \\n\", tensor1, \"\\n\")\n",
    "print(\"Tensor2: \\n\", tensor2, \"\\n\")\n",
    "print(\"Tensor3: \\n\", tensor3, \"\\n\")\n",
    "\n",
    "# Notice the changes in shape"
   ]
  },
  {
   "attachments": {},
   "cell_type": "markdown",
   "metadata": {},
   "source": [
    "## Types of Tensors\n",
    "\n",
    "Before we go too far, I will mention that there are different types of tensors. These are the most commonly used and we will talk more in depth about each as they are used.\n",
    "\n",
    "* Variable\n",
    "* Constant\n",
    "* Placeholder\n",
    "* SparseTensor\n",
    "\n",
    "With the exception of `Variable` all of these tensors are immutable, meaning their value may not change during execution.\n",
    "\n",
    "For now it is sufficient to understand that we use the `Variable` tensor when we want to potentially change the value of our tensor."
   ]
  },
  {
   "attachments": {},
   "cell_type": "markdown",
   "metadata": {},
   "source": [
    "## Evaluating Tensors\n",
    "\n",
    "There will be some times throughout this guide that we need to evaluate a tensor. In other words, get its value. Since tensors represents a partially complete computation, we will, sometimes, need to run what's called a *session* to evaluate the tensor.\n",
    "\n",
    "There are many different ways to achieve this, but I will note the simplest way below."
   ]
  },
  {
   "cell_type": "code",
   "execution_count": null,
   "metadata": {},
   "outputs": [],
   "source": [
    "with tf.compat.v1.Session() as sess:    # Creates a session using the default graph\n",
    "    tensor.eval()                       # Tensor will of course be the name of your tensor"
   ]
  },
  {
   "attachments": {},
   "cell_type": "markdown",
   "metadata": {},
   "source": [
    "In the code above we evaluated the tensor variable that was stored in the **default graph**. The default graph holds all operations not specifified to any other graph. It is possible to create our own separate graphs, but for now, we will stick with the default."
   ]
  },
  {
   "attachments": {},
   "cell_type": "markdown",
   "metadata": {},
   "source": [
    "# Sources\n",
    "\n",
    "Most of the information is taken directly from the TensorFlow website, which can be found below.\n",
    "\n",
    "https://www.tensorflow.org/guide/tensor"
   ]
  },
  {
   "cell_type": "code",
   "execution_count": 18,
   "metadata": {},
   "outputs": [
    {
     "name": "stdout",
     "output_type": "stream",
     "text": [
      "<module 'tensorflow._api.v2.version' from '/home/unudunno/.local/lib/python3.10/site-packages/tensorflow/_api/v2/version/__init__.py'>\n",
      "t: \n",
      " Tensor(\"zeros:0\", shape=(5, 5, 5, 5), dtype=float32) \n",
      "\n",
      "Reshaped t: \n",
      " Tensor(\"Reshape:0\", shape=(125, 5), dtype=float32) \n",
      "\n"
     ]
    }
   ],
   "source": [
    "import tensorflow as tf\n",
    "\n",
    "print(tf.version)\n",
    "\n",
    "t = tf.zeros([5, 5, 5, 5])\n",
    "print(\"t: \\n\", t, \"\\n\")\n",
    "\n",
    "t = tf.reshape(t, [125, -1])\n",
    "print(\"Reshaped t: \\n\", t, \"\\n\")"
   ]
  }
 ],
 "metadata": {
  "kernelspec": {
   "display_name": "Python 3",
   "language": "python",
   "name": "python3"
  },
  "language_info": {
   "codemirror_mode": {
    "name": "ipython",
    "version": 3
   },
   "file_extension": ".py",
   "mimetype": "text/x-python",
   "name": "python",
   "nbconvert_exporter": "python",
   "pygments_lexer": "ipython3",
   "version": "3.10.6 (main, Nov 14 2022, 16:10:14) [GCC 11.3.0]"
  },
  "orig_nbformat": 4,
  "vscode": {
   "interpreter": {
    "hash": "916dbcbb3f70747c44a77c7bcd40155683ae19c65e1c03b4aa3499c5328201f1"
   }
  }
 },
 "nbformat": 4,
 "nbformat_minor": 2
}
